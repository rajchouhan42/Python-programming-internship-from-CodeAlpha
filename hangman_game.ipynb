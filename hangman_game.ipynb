{
 "cells": [
  {
   "cell_type": "code",
   "execution_count": 1,
   "id": "d63a3c25-8e7f-4f9a-accd-af06de368e22",
   "metadata": {},
   "outputs": [
    {
     "name": "stdout",
     "output_type": "stream",
     "text": [
      "['_', '_', '_', '_', '_', '_', '_', '_', '_']\n"
     ]
    },
    {
     "name": "stdin",
     "output_type": "stream",
     "text": [
      "Guess a letter:  h\n"
     ]
    },
    {
     "name": "stdout",
     "output_type": "stream",
     "text": [
      "['_', '_', '_', '_', '_', '_', '_', '_', '_']\n",
      "\n",
      "      +---+\n",
      "      |   |\n",
      "      O   |\n",
      "          |\n",
      "          |\n",
      "          |\n",
      "    =========\n",
      "    \n"
     ]
    },
    {
     "name": "stdin",
     "output_type": "stream",
     "text": [
      "Guess a letter:  a\n"
     ]
    },
    {
     "name": "stdout",
     "output_type": "stream",
     "text": [
      "['_', '_', 'a', '_', '_', '_', '_', '_', '_']\n",
      "\n",
      "      +---+\n",
      "      |   |\n",
      "      O   |\n",
      "          |\n",
      "          |\n",
      "          |\n",
      "    =========\n",
      "    \n"
     ]
    },
    {
     "name": "stdin",
     "output_type": "stream",
     "text": [
      "Guess a letter:  e\n"
     ]
    },
    {
     "name": "stdout",
     "output_type": "stream",
     "text": [
      "['_', 'e', 'a', '_', '_', '_', '_', '_', '_']\n",
      "\n",
      "      +---+\n",
      "      |   |\n",
      "      O   |\n",
      "          |\n",
      "          |\n",
      "          |\n",
      "    =========\n",
      "    \n"
     ]
    },
    {
     "name": "stdin",
     "output_type": "stream",
     "text": [
      "Guess a letter:  \n"
     ]
    },
    {
     "name": "stdout",
     "output_type": "stream",
     "text": [
      "['_', 'e', 'a', '_', '_', '_', '_', '_', '_']\n",
      "\n",
      "      +---+\n",
      "      |   |\n",
      "      O   |\n",
      "          |\n",
      "          |\n",
      "          |\n",
      "    =========\n",
      "    \n"
     ]
    },
    {
     "name": "stdin",
     "output_type": "stream",
     "text": [
      "Guess a letter:  g\n"
     ]
    },
    {
     "name": "stdout",
     "output_type": "stream",
     "text": [
      "['_', 'e', 'a', '_', '_', '_', '_', '_', '_']\n",
      "\n",
      "      +---+\n",
      "      |   |\n",
      "      O   |\n",
      "      |   |\n",
      "          |\n",
      "          |\n",
      "    =========\n",
      "    \n"
     ]
    },
    {
     "name": "stdin",
     "output_type": "stream",
     "text": [
      "Guess a letter:  j\n"
     ]
    },
    {
     "name": "stdout",
     "output_type": "stream",
     "text": [
      "['_', 'e', 'a', '_', '_', '_', '_', '_', '_']\n",
      "\n",
      "      +---+\n",
      "      |   |\n",
      "      O   |\n",
      "     /|   |\n",
      "          |\n",
      "          |\n",
      "    =========\n",
      "    \n"
     ]
    },
    {
     "name": "stdin",
     "output_type": "stream",
     "text": [
      "Guess a letter:  k\n"
     ]
    },
    {
     "name": "stdout",
     "output_type": "stream",
     "text": [
      "['_', 'e', 'a', '_', '_', '_', '_', '_', '_']\n",
      "\n",
      "      +---+\n",
      "      |   |\n",
      "      O   |\n",
      "     /|\\  |\n",
      "          |\n",
      "          |\n",
      "    =========\n",
      "    \n"
     ]
    },
    {
     "name": "stdin",
     "output_type": "stream",
     "text": [
      "Guess a letter:  ;\n"
     ]
    },
    {
     "name": "stdout",
     "output_type": "stream",
     "text": [
      "['_', 'e', 'a', '_', '_', '_', '_', '_', '_']\n",
      "\n",
      "      +---+\n",
      "      |   |\n",
      "      O   |\n",
      "     /|\\  |\n",
      "     /    |\n",
      "          |\n",
      "    =========\n",
      "    \n"
     ]
    },
    {
     "name": "stdin",
     "output_type": "stream",
     "text": [
      "Guess a letter:  f\n"
     ]
    },
    {
     "name": "stdout",
     "output_type": "stream",
     "text": [
      "['_', 'e', 'a', '_', '_', '_', 'f', '_', '_']\n",
      "\n",
      "      +---+\n",
      "      |   |\n",
      "      O   |\n",
      "     /|\\  |\n",
      "     /    |\n",
      "          |\n",
      "    =========\n",
      "    \n"
     ]
    },
    {
     "name": "stdin",
     "output_type": "stream",
     "text": [
      "Guess a letter:  c\n"
     ]
    },
    {
     "name": "stdout",
     "output_type": "stream",
     "text": [
      "You lose!!\n",
      "The word was: beautiful\n",
      "['_', 'e', 'a', '_', '_', '_', 'f', '_', '_']\n",
      "\n",
      "      +---+\n",
      "      |   |\n",
      "      O   |\n",
      "     /|\\  |\n",
      "     / \\  |\n",
      "          |\n",
      "    =========\n",
      "    \n"
     ]
    }
   ],
   "source": [
    "# Hangman Game in One Single File (No hangman_stages import needed)\n",
    "\n",
    "import random\n",
    "\n",
    "# Hangman stages directly inside this file\n",
    "stages = [\n",
    "    '''\n",
    "      +---+\n",
    "      |   |\n",
    "      O   |\n",
    "     /|\\  |\n",
    "     / \\  |\n",
    "          |\n",
    "    =========\n",
    "    ''',\n",
    "    '''\n",
    "      +---+\n",
    "      |   |\n",
    "      O   |\n",
    "     /|\\  |\n",
    "     /    |\n",
    "          |\n",
    "    =========\n",
    "    ''',\n",
    "    '''\n",
    "      +---+\n",
    "      |   |\n",
    "      O   |\n",
    "     /|\\  |\n",
    "          |\n",
    "          |\n",
    "    =========\n",
    "    ''',\n",
    "    '''\n",
    "      +---+\n",
    "      |   |\n",
    "      O   |\n",
    "     /|   |\n",
    "          |\n",
    "          |\n",
    "    =========\n",
    "    ''',\n",
    "    '''\n",
    "      +---+\n",
    "      |   |\n",
    "      O   |\n",
    "      |   |\n",
    "          |\n",
    "          |\n",
    "    =========\n",
    "    ''',\n",
    "    '''\n",
    "      +---+\n",
    "      |   |\n",
    "      O   |\n",
    "          |\n",
    "          |\n",
    "          |\n",
    "    =========\n",
    "    ''',\n",
    "    '''\n",
    "      +---+\n",
    "      |   |\n",
    "          |\n",
    "          |\n",
    "          |\n",
    "          |\n",
    "    =========\n",
    "    '''\n",
    "]\n",
    "\n",
    "# Word list and game setup\n",
    "word_list = [\"apple\", \"beautiful\", \"potato\"]\n",
    "lives = 6\n",
    "chosen_word = random.choice(word_list)\n",
    "\n",
    "# Uncomment below if you want to see the word while testing\n",
    "# print(f\"Pssst, the solution is: {chosen_word}\")\n",
    "\n",
    "# Display setup\n",
    "display = [\"_\" for _ in chosen_word]\n",
    "print(display)\n",
    "\n",
    "game_over = False\n",
    "\n",
    "# Main game loop\n",
    "while not game_over:\n",
    "    guessed_letter = input(\"Guess a letter: \").lower()\n",
    "\n",
    "    for position in range(len(chosen_word)):\n",
    "        letter = chosen_word[position]\n",
    "        if letter == guessed_letter:\n",
    "            display[position] = guessed_letter\n",
    "\n",
    "    if guessed_letter not in chosen_word:\n",
    "        lives -= 1\n",
    "        if lives == 0:\n",
    "            game_over = True\n",
    "            print(\"You lose!!\")\n",
    "            print(f\"The word was: {chosen_word}\")\n",
    "\n",
    "    if \"_\" not in display:\n",
    "        game_over = True\n",
    "        print(\"You win!!\")\n",
    "\n",
    "    print(display)\n",
    "    print(stages[lives])\n"
   ]
  },
  {
   "cell_type": "code",
   "execution_count": null,
   "id": "79049764-b3aa-4f91-a5c4-947280f6f4ae",
   "metadata": {},
   "outputs": [],
   "source": []
  }
 ],
 "metadata": {
  "kernelspec": {
   "display_name": "Python 3 (ipykernel)",
   "language": "python",
   "name": "python3"
  },
  "language_info": {
   "codemirror_mode": {
    "name": "ipython",
    "version": 3
   },
   "file_extension": ".py",
   "mimetype": "text/x-python",
   "name": "python",
   "nbconvert_exporter": "python",
   "pygments_lexer": "ipython3",
   "version": "3.10.10"
  }
 },
 "nbformat": 4,
 "nbformat_minor": 5
}
