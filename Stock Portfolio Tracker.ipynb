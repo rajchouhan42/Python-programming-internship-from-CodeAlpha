{
 "cells": [
  {
   "cell_type": "code",
   "execution_count": 2,
   "id": "ab63980e-7445-4ddf-be2a-a9d7937e3132",
   "metadata": {},
   "outputs": [
    {
     "name": "stdout",
     "output_type": "stream",
     "text": [
      "\n",
      "Type 'STOP' anytime to finish entering your stocks.\n",
      "\n"
     ]
    },
    {
     "name": "stdin",
     "output_type": "stream",
     "text": [
      "Enter stock name (AAPL, TSLA, GOOG, MSFT) or type 'STOP' to finish:  goog\n",
      "How many shares of GOOG do you own?  12\n",
      "Enter stock name (AAPL, TSLA, GOOG, MSFT) or type 'STOP' to finish:  aapl\n",
      "How many shares of AAPL do you own?  14\n",
      "Enter stock name (AAPL, TSLA, GOOG, MSFT) or type 'STOP' to finish:  stop\n"
     ]
    },
    {
     "name": "stdout",
     "output_type": "stream",
     "text": [
      "\n",
      "--- Your Stock Portfolio Summary ---\n",
      "GOOG: 12 shares x $2800 = $33600\n",
      "AAPL: 14 shares x $180 = $2520\n",
      "\n",
      "Total Investment Value: $36120\n"
     ]
    },
    {
     "name": "stdin",
     "output_type": "stream",
     "text": [
      "\n",
      "Do you want to save this summary to a file? (yes/no):  yes\n"
     ]
    },
    {
     "name": "stdout",
     "output_type": "stream",
     "text": [
      "Portfolio saved to 'portfolio_summary.txt'.\n",
      "\n",
      "Thank you for using the Stock Portfolio Tracker!\n"
     ]
    }
   ],
   "source": [
    "# Step 1: Pre-defined stock prices for common companies\n",
    "stock_prices = {\n",
    "    \"AAPL\": 180,    # Apple\n",
    "    \"TSLA\": 250,    # Tesla\n",
    "    \"GOOG\": 2800,   # Google\n",
    "    \"MSFT\": 350     # Microsoft\n",
    "}\n",
    "\n",
    "# Step 2: Create an empty dictionary to store the user's stocks\n",
    "portfolio = {}\n",
    "\n",
    "# Step 3: Instructions to the user\n",
    "print(\"\\nType 'STOP' anytime to finish entering your stocks.\\n\")\n",
    "\n",
    "# Step 4: Start asking the user for stock names and number of shares\n",
    "while True:\n",
    "    # Ask user for stock name\n",
    "    stock_name = input(\"Enter stock name (AAPL, TSLA, GOOG, MSFT) or type 'STOP' to finish: \").upper().strip()\n",
    "\n",
    "    # Stop the loop if user types STOP\n",
    "    if stock_name == \"STOP\":\n",
    "        break\n",
    "\n",
    "    # If stock is not in our list, skip it\n",
    "    if stock_name not in stock_prices:\n",
    "        print(f\"{stock_name} is not in our stock list. Skipping this entry.\")\n",
    "        continue\n",
    "\n",
    "    # Ask for the number of shares for this stock\n",
    "    quantity_input = input(f\"How many shares of {stock_name} do you own? \").strip()\n",
    "\n",
    "    # Check if user gave a valid number\n",
    "    if not quantity_input.isdigit():\n",
    "        print(\"Invalid number of shares. Skipping this entry.\")\n",
    "        continue\n",
    "\n",
    "    quantity = int(quantity_input)\n",
    "\n",
    "    # Quantity should be a positive number\n",
    "    if quantity <= 0:\n",
    "        print(\"Please enter a positive number.\")\n",
    "        continue\n",
    "\n",
    "    # Step 5: Add shares to the portfolio\n",
    "    # If user already added this stock before, add to existing quantity\n",
    "    portfolio[stock_name] = portfolio.get(stock_name, 0) + quantity\n",
    "\n",
    "# Step 6: Show the user the final results\n",
    "total_investment = 0\n",
    "\n",
    "print(\"\\n--- Your Stock Portfolio Summary ---\")\n",
    "for stock, shares in portfolio.items():\n",
    "    price_per_share = stock_prices[stock]\n",
    "    stock_value = price_per_share * shares\n",
    "    total_investment += stock_value\n",
    "    print(f\"{stock}: {shares} shares x ${price_per_share} = ${stock_value}\")\n",
    "\n",
    "print(f\"\\nTotal Investment Value: ${total_investment}\")\n",
    "\n",
    "# Step 7: Ask user if they want to save the results\n",
    "save_choice = input(\"\\nDo you want to save this summary to a file? (yes/no): \").lower()\n",
    "\n",
    "# Step 8: Save to file if user wants\n",
    "if save_choice == \"yes\":\n",
    "    with open(\"portfolio_summary.txt\", \"w\") as file:\n",
    "        file.write(\"--- Your Stock Portfolio Summary ---\\n\")\n",
    "        for stock, shares in portfolio.items():\n",
    "            price = stock_prices[stock]\n",
    "            value = price * shares\n",
    "            file.write(f\"{stock}: {shares} shares x ${price} = ${value}\\n\")\n",
    "        file.write(f\"\\nTotal Investment Value: ${total_investment}\\n\")\n",
    "    print(\"Portfolio saved to 'portfolio_summary.txt'.\")\n",
    "\n",
    "# Program completed\n",
    "print(\"\\nThank you for using the Stock Portfolio Tracker!\")\n"
   ]
  },
  {
   "cell_type": "code",
   "execution_count": null,
   "id": "c31a63b9-3e6e-41f3-bb1e-7779b08dd26d",
   "metadata": {},
   "outputs": [],
   "source": []
  }
 ],
 "metadata": {
  "kernelspec": {
   "display_name": "Python 3 (ipykernel)",
   "language": "python",
   "name": "python3"
  },
  "language_info": {
   "codemirror_mode": {
    "name": "ipython",
    "version": 3
   },
   "file_extension": ".py",
   "mimetype": "text/x-python",
   "name": "python",
   "nbconvert_exporter": "python",
   "pygments_lexer": "ipython3",
   "version": "3.10.10"
  }
 },
 "nbformat": 4,
 "nbformat_minor": 5
}
