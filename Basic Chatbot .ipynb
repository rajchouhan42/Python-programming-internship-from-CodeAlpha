{
 "cells": [
  {
   "cell_type": "code",
   "execution_count": 2,
   "id": "2db0eafb-c262-4b79-9ad3-3fb9c0cd4141",
   "metadata": {},
   "outputs": [
    {
     "name": "stdin",
     "output_type": "stream",
     "text": [
      "you ! hello\n"
     ]
    },
    {
     "name": "stdout",
     "output_type": "stream",
     "text": [
      "Chatbot: Hi!\n"
     ]
    },
    {
     "name": "stdin",
     "output_type": "stream",
     "text": [
      "you ! how are you\n"
     ]
    },
    {
     "name": "stdout",
     "output_type": "stream",
     "text": [
      "Chatbot: I'm fine, thanks!\n"
     ]
    },
    {
     "name": "stdin",
     "output_type": "stream",
     "text": [
      "you ! bye\n"
     ]
    },
    {
     "name": "stdout",
     "output_type": "stream",
     "text": [
      "Chatbot: Goodbye!\n",
      "Wellcome to simple chatbot! (Type 'bye' to exit)\n"
     ]
    }
   ],
   "source": [
    "# simple Chatbot in python\n",
    "def chatbot():\n",
    "    print(\"Wellcome to simple chatbot! (Type 'bye' to exit)\")\n",
    "\n",
    "while True:\n",
    "    user_input = input(\"you !\").lower()\n",
    "    if user_input == \"hello\":\n",
    "        print(\"Chatbot: Hi!\")\n",
    "    elif user_input == \"how are you\":\n",
    "        print(\"Chatbot: I'm fine, thanks!\")\n",
    "    elif user_input== \"bye\":\n",
    "        print(\"Chatbot: Goodbye!\")\n",
    "        break\n",
    "\n",
    "    else:\n",
    "        print(\"Chatbot: I don't understand.\")\n",
    "\n",
    "chatbot()\n",
    "    "
   ]
  },
  {
   "cell_type": "code",
   "execution_count": null,
   "id": "281bb1c6-fbd2-4293-be27-48bac357d182",
   "metadata": {},
   "outputs": [],
   "source": []
  }
 ],
 "metadata": {
  "kernelspec": {
   "display_name": "Python 3 (ipykernel)",
   "language": "python",
   "name": "python3"
  },
  "language_info": {
   "codemirror_mode": {
    "name": "ipython",
    "version": 3
   },
   "file_extension": ".py",
   "mimetype": "text/x-python",
   "name": "python",
   "nbconvert_exporter": "python",
   "pygments_lexer": "ipython3",
   "version": "3.10.10"
  }
 },
 "nbformat": 4,
 "nbformat_minor": 5
}
